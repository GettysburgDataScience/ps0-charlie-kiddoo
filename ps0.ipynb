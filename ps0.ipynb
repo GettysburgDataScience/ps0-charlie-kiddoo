{
 "cells": [
  {
   "cell_type": "markdown",
   "metadata": {},
   "source": [
    "Charlie Kiddoo\n",
    "\n",
    " - collaborator 1\n",
    " - collaborator 2"
   ]
  },
  {
   "cell_type": "markdown",
   "metadata": {
    "vscode": {
     "languageId": "plaintext"
    }
   },
   "source": [
    "# Problem Set 0\n",
    "\n",
    "Congrats! You've successfully cloned the our first warm-up problem set.\n",
    "\n",
    "This problem set will be collected (so you get practice committing and pushing your GitHub repository), but it will not be graded as an assignment.\n",
    "\n",
    "The purpose of this assignment is to familiarize ourselves with the Visual Studio Code IDE and to refresh some coding skills that you may not have exercised in a while. Let's go!"
   ]
  },
  {
   "cell_type": "markdown",
   "metadata": {},
   "source": [
    "## The coding part\n",
    "\n",
    "First, let's import some of our favorite packages: numpy, pandas, and matplotlib.pyplot"
   ]
  },
  {
   "cell_type": "code",
   "execution_count": 21,
   "metadata": {},
   "outputs": [],
   "source": [
    "import numpy as np\n",
    "import matplotlib.pyplot as plt\n",
    "\n"
   ]
  },
  {
   "cell_type": "markdown",
   "metadata": {},
   "source": [
    "## Let's start coding\n",
    "\n",
    "We'll reserve this next cell for some functions we'll write."
   ]
  },
  {
   "cell_type": "code",
   "execution_count": 22,
   "metadata": {},
   "outputs": [],
   "source": [
    "def line(m = 0, b = 0):\n",
    "    return lambda x: m*x + b\n",
    "\n",
    "def residuals(mod, x, y):\n",
    "    return y - mod(x)\n",
    "\n",
    "def plot_residuals(mod, x, y, ax=None):\n",
    "    if ax is None:\n",
    "        fig, ax = plt.subplots(1, 1, figsize = (6, 6))\n",
    "        \n",
    "        X = np.vstack([x, x])\n",
    "        Y = np.vstack([y, mod(x)])\n",
    "        \n",
    "        h = ax.plot(X, Y, color= 'salmon', linestyle ='--', alpha = 0.5)\n",
    "        return h\n",
    "    \n",
    "def rmse(mod, x, y):\n",
    "    return np.sqrt(np.mean(residuals(mod, x, y)**2))\n",
    "    \n"
   ]
  },
  {
   "cell_type": "markdown",
   "metadata": {},
   "source": [
    "First, let's fabricate some data.\n",
    "\n",
    " - For our x-values, let's generate some 20 random samples in the range (-5,5)\n",
    " - For our y-values, we'll have them be a linear (affine actually) function of x, with some noise. Use slope of 0.8 and y-intercept of 2.3 and add normally distributed noise.\n",
    "We'll generate some random samples "
   ]
  },
  {
   "cell_type": "code",
   "execution_count": 23,
   "metadata": {},
   "outputs": [],
   "source": [
    "np.random.seed(2025)\n",
    "x = np.sort(10*np.random.rand(20) - 5)\n",
    "y = 0.8*x+2.3 +np.random.randn(20)"
   ]
  },
  {
   "cell_type": "code",
   "execution_count": 26,
   "metadata": {},
   "outputs": [],
   "source": [
    "model = line(m=0.5, b=0)\n",
    "y_model = model(x)\n"
   ]
  },
  {
   "cell_type": "code",
   "execution_count": 27,
   "metadata": {},
   "outputs": [
    {
     "data": {
      "image/png": "[encoded data removed]",
      "text/plain": [
       "<Figure size 432x432 with 1 Axes>"
      ]
     },
     "metadata": {
      "needs_background": "light"
     },
     "output_type": "display_data"
    }
   ],
   "source": [
    "fig, ax = plt.subplots(1, 1, figsize = (6, 6))\n",
    "\n",
    "ax.plot(x, y, '.', label = 'data')\n",
    "rmse_value = rmse(model, x, y)\n",
    "ax.text(0.05, 0.95, f'RMSE: {rmse_value:.2f}', transform=ax.transAxes, fontsize=12, verticalalignment='top')\n",
    "ax.plot(x, y_model, '--', label = 'model')\n",
    "plot_residuals(model, x, y, ax=ax)\n",
    "plt.show()"
   ]
  },
  {
   "cell_type": "code",
   "execution_count": null,
   "metadata": {},
   "outputs": [],
   "source": []
  },
  {
   "cell_type": "markdown",
   "metadata": {},
   "source": [
    "## Plotting and writing functions\n",
    "\n",
    "First, let's plot the data.\n",
    "\n",
    "We'll also want to plot:\n",
    " - A line with slope and intercept of our choosing.\n",
    " - residuals (distances from a line to the data)\n",
    " - Calculate the RMSE error\n",
    "\n",
    " $ RMSE = \\sqrt{\\frac{1}{n}\\sum^{n}_{j=1} (y_j - f(x_j))^2}$"
   ]
  },
  {
   "cell_type": "code",
   "execution_count": null,
   "metadata": {},
   "outputs": [],
   "source": [
    "\n"
   ]
  },
  {
   "cell_type": "markdown",
   "metadata": {},
   "source": [
    "## Trying different models\n",
    "\n",
    "We'll write a loop to calculate the RMSE for lines (models) of different slopes."
   ]
  },
  {
   "cell_type": "code",
   "execution_count": null,
   "metadata": {},
   "outputs": [],
   "source": []
  },
  {
   "cell_type": "markdown",
   "metadata": {},
   "source": [
    "### Can our model be improved?\n",
    "\n",
    "Why is our best fit model not that good?"
   ]
  },
  {
   "cell_type": "code",
   "execution_count": null,
   "metadata": {},
   "outputs": [],
   "source": []
  }
 ],
 "metadata": {
  "kernelspec": {
   "display_name": "base",
   "language": "python",
   "name": "python3"
  },
  "language_info": {
   "codemirror_mode": {
    "name": "ipython",
    "version": 3
   },
   "file_extension": ".py",
   "mimetype": "text/x-python",
   "name": "python",
   "nbconvert_exporter": "python",
   "pygments_lexer": "ipython3",
   "version": "3.9.20"
  }
 },
 "nbformat": 4,
 "nbformat_minor": 2
}
